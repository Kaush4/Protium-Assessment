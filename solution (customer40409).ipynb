{
 "cells": [
  {
   "cell_type": "code",
   "execution_count": 1,
   "id": "7f3bf621",
   "metadata": {},
   "outputs": [],
   "source": [
    "import pandas as pd"
   ]
  },
  {
   "cell_type": "code",
   "execution_count": 2,
   "id": "4c1e8d56",
   "metadata": {},
   "outputs": [],
   "source": [
    "# 01. Problem statement: What percentage of trades are with 30+ DPD (more than 30 days past due) among all \n",
    "# the trades available?"
   ]
  },
  {
   "cell_type": "code",
   "execution_count": 3,
   "id": "7458ba21",
   "metadata": {},
   "outputs": [],
   "source": [
    "def DPD_trade_count(dictionary):\n",
    "    trade_count_with_DPD=0\n",
    "    for i,j in dictionary.items():\n",
    "        if j>0:\n",
    "            trade_count_with_DPD+=1\n",
    "    return trade_count_with_DPD"
   ]
  },
  {
   "cell_type": "code",
   "execution_count": 4,
   "id": "4612b8a7",
   "metadata": {},
   "outputs": [
    {
     "name": "stdout",
     "output_type": "stream",
     "text": [
      "Here keys are trade numbers and values are number of occurences of 30+ DPD for that trade\n",
      "{1: 0, 2: 0, 3: 0, 4: 0, 5: 0, 6: 0, 7: 0, 8: 0, 9: 1, 10: 0, 11: 0, 12: 0, 13: 0, 14: 0, 15: 0, 16: 5, 17: 1, 18: 0, 19: 0, 20: 0, 21: 0, 22: 0, 23: 0, 24: 0, 25: 3, 26: 0, 27: 3}\n",
      "Percentage of trades are with 30+ DPD among all the trades available = 18.51851851851852 %\n"
     ]
    }
   ],
   "source": [
    "# soution with considering one trade as one group\n",
    "df= pd.read_excel(\"Excel file (customer40409).xlsx\")\n",
    "grouped_data=df.groupby('Trade')\n",
    "d= {}\n",
    "list_of_occurences=[]\n",
    "count= 0\n",
    "for i in range(1,len(grouped_data)):\n",
    "    data=grouped_data.get_group(i)\n",
    "    for j in data['DPD (days past due)']:\n",
    "        if (j>30):\n",
    "            count+=1\n",
    "    d[i]=count\n",
    "    list_of_occurences.append(count)\n",
    "    count=0\n",
    "print(\"Here keys are trade numbers and values are number of occurences of 30+ DPD for that trade\")\n",
    "print(d)\n",
    "percentage=DPD_trade_count(d)/len(d)*100\n",
    "print(\"Percentage of trades are with 30+ DPD among all the trades available =\",percentage,\"%\")"
   ]
  },
  {
   "cell_type": "code",
   "execution_count": 5,
   "id": "88705a74",
   "metadata": {},
   "outputs": [
    {
     "name": "stdout",
     "output_type": "stream",
     "text": [
      "Count of total trades done for payment of amounts over different month is 364\n",
      "Count of trades done for payment of amounts having 30+ DPD is 13\n",
      "Percentage of trade with 30+ DPD is 3.571428571428571 Percent\n"
     ]
    }
   ],
   "source": [
    "# soution with considering each loan emi as a single trade\n",
    "df= pd.read_excel(\"Excel file (customer40409).xlsx\")\n",
    "df['DPD (days past due)']\n",
    "trade_with_DPD= 0\n",
    "total_available_trade=0\n",
    "for i in df['DPD (days past due)']:\n",
    "    total_available_trade+=1\n",
    "    if (i > 30.0):\n",
    "        trade_with_DPD+=1\n",
    "    else:\n",
    "        pass\n",
    "m=(trade_with_DPD/total_available_trade)*100\n",
    "print(\"Count of total trades done for payment of amounts over different month is %s\"%total_available_trade)\n",
    "print(\"Count of trades done for payment of amounts having 30+ DPD is %s\"%trade_with_DPD)\n",
    "print(\"Percentage of trade with 30+ DPD is %s Percent\"%m)"
   ]
  },
  {
   "cell_type": "code",
   "execution_count": 10,
   "id": "a487c798",
   "metadata": {},
   "outputs": [],
   "source": [
    "# 02. Problem statement: What is the sum of total disbursed amount for all loans for each customer?"
   ]
  },
  {
   "cell_type": "code",
   "execution_count": 6,
   "id": "29a63181",
   "metadata": {},
   "outputs": [
    {
     "name": "stdout",
     "output_type": "stream",
     "text": [
      "Total disbursed loan amount to customer is 1075308\n"
     ]
    }
   ],
   "source": [
    "# soution using wrangled excel file\n",
    "df= pd.read_excel(\"Excel file (customer40409).xlsx\")\n",
    "grouped_data=df.groupby('Trade')\n",
    "sums=0\n",
    "d={}\n",
    "for i,j in grouped_data['DISBURSED-AMT']:\n",
    "    for amt in j:\n",
    "        sums=sums\n",
    "    sums+=amt\n",
    "print(\"Total disbursed loan amount to customer is %s\"%sums)"
   ]
  },
  {
   "cell_type": "code",
   "execution_count": 8,
   "id": "58514bd3",
   "metadata": {},
   "outputs": [],
   "source": [
    "def convert_currency(val):\n",
    "    new_val = val.replace(',','')\n",
    "    return int(new_val)"
   ]
  },
  {
   "cell_type": "code",
   "execution_count": 9,
   "id": "c6267353",
   "metadata": {},
   "outputs": [
    {
     "name": "stdout",
     "output_type": "stream",
     "text": [
      "Total disbursed loan amount to customer is 1075308\n"
     ]
    }
   ],
   "source": [
    "# soution using given XML file\n",
    "df= pd.read_xml(\"customer40409_loan40409_crif_report.html.xml\",xpath=\".//LOAN-DETAILS\")\n",
    "df['DISBURSED-AMT'].apply(convert_currency)\n",
    "sums = 0\n",
    "for i in df['DISBURSED-AMT'].apply(convert_currency):\n",
    "    sums += i\n",
    "print(\"Total disbursed loan amount to customer is %s\"%sums)"
   ]
  },
  {
   "cell_type": "code",
   "execution_count": 11,
   "id": "4641b121",
   "metadata": {},
   "outputs": [],
   "source": [
    "# 03. Problem statement: What is the maximum number of months of 30+ due per trade was there?\n",
    "# e.g. for trade 1 there are 3 occurrences of 30+, for trade 2 there are 6 occurrences and \n",
    "# for trade 3 there are 3 occurrences then the answer will be 6."
   ]
  },
  {
   "cell_type": "code",
   "execution_count": 12,
   "id": "15d708a1",
   "metadata": {},
   "outputs": [
    {
     "name": "stdout",
     "output_type": "stream",
     "text": [
      "Here keys are trade numbers and values are number of occurences of 30+ DPD for that trade\n",
      "{1: 0, 2: 0, 3: 0, 4: 0, 5: 0, 6: 0, 7: 0, 8: 0, 9: 1, 10: 0, 11: 0, 12: 0, 13: 0, 14: 0, 15: 0, 16: 5, 17: 1, 18: 0, 19: 0, 20: 0, 21: 0, 22: 0, 23: 0, 24: 0, 25: 3, 26: 0, 27: 3}\n",
      "Maximum number of months of 30+ due per trade is 5 \n"
     ]
    }
   ],
   "source": [
    "df= pd.read_excel(\"Excel file (customer40409).xlsx\")\n",
    "grouped_data=df.groupby('Trade')\n",
    "d= {}\n",
    "list_of_occurences=[]\n",
    "count= 0\n",
    "for i in range(1,len(grouped_data)):\n",
    "    data=grouped_data.get_group(i)\n",
    "    for j in data['DPD (days past due)']:\n",
    "        if (j>30):\n",
    "            count+=1\n",
    "    d[i]=count\n",
    "    list_of_occurences.append(count)\n",
    "    count=0\n",
    "print(\"Here keys are trade numbers and values are number of occurences of 30+ DPD for that trade\")\n",
    "print(d)\n",
    "print(\"Maximum number of months of 30+ due per trade is %s \"%max(list_of_occurences))"
   ]
  },
  {
   "cell_type": "code",
   "execution_count": null,
   "id": "0c260c53",
   "metadata": {},
   "outputs": [],
   "source": []
  }
 ],
 "metadata": {
  "kernelspec": {
   "display_name": "Python 3 (ipykernel)",
   "language": "python",
   "name": "python3"
  },
  "language_info": {
   "codemirror_mode": {
    "name": "ipython",
    "version": 3
   },
   "file_extension": ".py",
   "mimetype": "text/x-python",
   "name": "python",
   "nbconvert_exporter": "python",
   "pygments_lexer": "ipython3",
   "version": "3.9.13"
  }
 },
 "nbformat": 4,
 "nbformat_minor": 5
}
